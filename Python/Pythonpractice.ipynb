{
 "cells": [
  {
   "cell_type": "code",
   "execution_count": 2,
   "id": "07358d7d",
   "metadata": {},
   "outputs": [
    {
     "name": "stdout",
     "output_type": "stream",
     "text": [
      "{'N'}\n"
     ]
    }
   ],
   "source": [
    "def common_letters():\n",
    "    str1 = str(input('Enter the First string: '))\n",
    "    str2 = str(input('Enter the Second string: '))\n",
    "    a = set(str1)\n",
    "    b = set(str2)\n",
    "    lst = a & b\n",
    "    print(lst)\n",
    "common_letters()"
   ]
  },
  {
   "cell_type": "code",
   "execution_count": null,
   "id": "93a3642a",
   "metadata": {},
   "outputs": [],
   "source": []
  }
 ],
 "metadata": {
  "kernelspec": {
   "display_name": "Python 3",
   "language": "python",
   "name": "python3"
  },
  "language_info": {
   "codemirror_mode": {
    "name": "ipython",
    "version": 3
   },
   "file_extension": ".py",
   "mimetype": "text/x-python",
   "name": "python",
   "nbconvert_exporter": "python",
   "pygments_lexer": "ipython3",
   "version": "3.13.1"
  }
 },
 "nbformat": 4,
 "nbformat_minor": 5
}
